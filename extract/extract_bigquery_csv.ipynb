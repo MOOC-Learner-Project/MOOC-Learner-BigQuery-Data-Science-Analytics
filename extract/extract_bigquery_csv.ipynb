{
 "cells": [
  {
   "cell_type": "code",
   "execution_count": 1,
   "metadata": {},
   "outputs": [],
   "source": [
    "# Import modules and configure path.\n",
    "import numpy as np\n",
    "import pandas as pd\n",
    "import os\n",
    "import csv\n",
    "\n",
    "import matplotlib.pyplot as plt\n",
    "%matplotlib inline\n",
    "\n",
    "import sys\n",
    "sys.path.insert(0, '../../')\n",
    "\n",
    "from copy import deepcopy\n",
    "from json2csv import *"
   ]
  },
  {
   "cell_type": "code",
   "execution_count": 2,
   "metadata": {},
   "outputs": [],
   "source": [
    "# Specify course list\n",
    "courses=['Course1', 'Course2']\n",
    "\n",
    "DICT_OF_FIELDS_TEST = {\n",
    "    'problem_first_attempt_correct': ['problem_nid', 'n_first_attempt_correct_by_certified',\n",
    "                        'n_certified_users_attempted', 'pct_correct_first_attempt_by_certified',\n",
    "                        'n_first_attempt_correct_by_completed', 'n_completed_users_attempted',\n",
    "                        'pct_correct_first_attempt_by_completed', 'n_first_attempt_correct_by_explored',\n",
    "                        'n_explored_users_attempted', 'pct_correct_first_attempt_by_explored']\n",
    "}\n",
    "\n",
    "DICT_OF_FIELDS = {\n",
    "    'course_axis': ['category', 'index', 'url_name', 'name', 'gformat', 'due', 'start',\n",
    "                    'module_id', 'course_id', 'path', 'graded', 'parent'],\n",
    "    'course_item': ['item_id', 'problem_id', 'item_weight',\n",
    "                    'assignment_id', 'problem_weight', 'start_date',\n",
    "                    'due_date', 'problem_short_id', 'item_nid'],\n",
    "    'course_problem': ['course_id', 'problem_nid', 'problem_id',\n",
    "                        'avg_problem_pct_score', 'n_unique_users_attempted'],\n",
    "    'user_info_combo': ['user_id', 'username', 'is_staff',\n",
    "                        'last_login', 'date_joined', 'enrollment_course_id',\n",
    "                        'enrollment_created', 'enrollment_is_active', 'enrollment_mode',\n",
    "                        'certificate_grade', 'certificate_status', 'certificate_name',\n",
    "                        'certificate_created_date', 'certificate_mode'],\n",
    "    'person_course': ['user_id', 'username', 'registered', 'viewed', 'explored',\n",
    "                      'certified', 'completed', 'course_id', 'grade'],\n",
    "    'chapter_grades': ['user_id', 'chapter_mid', 'user_chapter_max_grade', 'chgrade',\n",
    "                       'due_date_max', 'due_date_min'],\n",
    "    'person_item': ['user_id', 'course_id', 'item_nid', 'item_grade',\n",
    "                    'grade', 'n_attempts', 'date'],\n",
    "    'person_problem': ['user_id', 'problem_nid', 'problem_raw_score',\n",
    "                       'problem_pct_score', 'grade', 'date', 'course_id'],\n",
    "    'person_course_day': ['username', 'date', 'nevents', 'last_event', 'course_id'],\n",
    "    'problem_analysis': ['course_id', 'user_id', 'problem_url_name', 'item',\n",
    "                        'item.answer_id', 'item.response', 'item.correctness', 'item.correct_bool',\n",
    "                        'item.npoints', 'item.msg', 'item.hint', 'attempts', 'done',\n",
    "                        'grade', 'max_grade', 'created']\n",
    "}\n",
    "\n",
    "# directory from which to get JSON tables\n",
    "json_dir = 'json_table_dir'\n",
    "\n",
    "# directory to save csv files\n",
    "csv_dir = 'save_dir/{}'"
   ]
  },
  {
   "cell_type": "code",
   "execution_count": 3,
   "metadata": {},
   "outputs": [
    {
     "name": "stdout",
     "output_type": "stream",
     "text": [
      "JSON2CSV: Process finished.\n",
      " - tables converted: ['user_info_combo', 'person_course', 'course_problem', 'person_problem', 'person_item', 'course_item', 'course_axis', 'problem_analysis', 'person_course_day', 'chapter_grades'] - missing field types: {'item.hint': 961776, 'explored': 24850, 'due': 1086, 'due_date': 1158, 'parent': 2, 'certificate_created_date': 16460, 'item.msg': 961776, 'item.response': 961776, 'certificate_status': 16460, 'certificate_name': 16460, 'item.npoints': 961776, 'item.correctness': 961776, 'nevents': 255, 'item.answer_id': 961776, 'certificate_grade': 16460, 'due_date_min': 54524, 'certificate_mode': 16460, 'grade': 8230, 'gformat': 342, 'due_date_max': 54524, 'item.correct_bool': 961776}\n",
      "MITx__6_00_1x_11__1T2017 extracted!\n",
      "1/2 extractions completed.\n",
      "JSON2CSV: Process finished.\n",
      " - tables converted: ['user_info_combo', 'person_course', 'course_problem', 'person_problem', 'person_item', 'course_item', 'course_axis', 'problem_analysis', 'person_course_day', 'chapter_grades'] - missing field types: {'item.hint': 1319857, 'explored': 56988, 'due': 2062, 'due_date': 1397, 'parent': 3, 'certificate_created_date': 28919, 'item.msg': 1319857, 'item.response': 1319857, 'certificate_status': 28919, 'certificate_name': 28920, 'item.npoints': 1319857, 'item.correctness': 1319857, 'nevents': 499, 'item.answer_id': 1319857, 'certificate_grade': 28919, 'due_date_min': 74406, 'certificate_mode': 28919, 'grade': 18519, 'gformat': 1135, 'due_date_max': 74406, 'item.correct_bool': 1319857}\n",
      "MITx__6_00_1x__2T2016 extracted!\n",
      "2/2 extractions completed.\n"
     ]
    }
   ],
   "source": [
    "num_courses = len(courses)\n",
    "for (i, course) in enumerate(courses):\n",
    "    # convert to CSV\n",
    "    j2c = JSON2CSV(read_dir=json_dir.format(course), save_dir=csv_dir.format(course), dict_of_fields=DICT_OF_FIELDS)\n",
    "    j2c.process()\n",
    "    print('{} extracted!'.format(course))\n",
    "    print('{}/{} extractions completed.'.format(i+1, num_courses))"
   ]
  },
  {
   "cell_type": "code",
   "execution_count": null,
   "metadata": {
    "collapsed": true
   },
   "outputs": [],
   "source": []
  }
 ],
 "metadata": {
  "kernelspec": {
   "display_name": "Python 3",
   "language": "python",
   "name": "python3"
  },
  "language_info": {
   "codemirror_mode": {
    "name": "ipython",
    "version": 3
   },
   "file_extension": ".py",
   "mimetype": "text/x-python",
   "name": "python",
   "nbconvert_exporter": "python",
   "pygments_lexer": "ipython3",
   "version": "3.5.6"
  }
 },
 "nbformat": 4,
 "nbformat_minor": 2
}